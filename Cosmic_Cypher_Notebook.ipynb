{
  "nbformat": 4,
  "nbformat_minor": 0,
  "metadata": {
    "colab": {
      "provenance": []
    },
    "kernelspec": {
      "name": "python3",
      "display_name": "Python 3"
    },
    "language_info": {
      "name": "python"
    }
  },
  "cells": [
    {
      "cell_type": "markdown",
      "source": [
        "# **Begin Here: https://trinket.io/python/e8b13ce959b8**\n",
        "\n",
        "https://jupyter.org/try-jupyter/lab/index.html?path=notebooks%2FCosmic_Cypher_Notebook.ipynb"
      ],
      "metadata": {
        "id": "28cc-yyzz7KH"
      }
    },
    {
      "cell_type": "markdown",
      "source": [
        "# 🔐 The Cosmic Cipher: Cryptography and the Search for Extraterrestrial Intelligence\n",
        "\n",
        "Imagine you’re trying to send a secret message to a friend across space. You want it scrambled just enough that no one else can read it—unless they know the key. That’s what cryptography does!\n",
        "\n",
        "In this notebook, we’ll explore one of the oldest and simplest ciphers: the **Caesar Cipher**, named after Julius Caesar himself.\n",
        "\n",
        "You’ll get to:\n",
        "- Encrypt a message\n",
        "- Decrypt it using the key\n",
        "- Try to crack the code *without* knowing the key\n",
        "\n",
        "And maybe… just maybe… think like an alien looking to send a message to Earth. 🛸\n"
      ],
      "metadata": {
        "id": "0fE3WUc21ltr"
      }
    },
    {
      "cell_type": "markdown",
      "source": [
        "## ================================================================="
      ],
      "metadata": {
        "id": "e1cV4CgI1zid"
      }
    },
    {
      "cell_type": "markdown",
      "source": [
        "## 🏛️ What is a Caesar Cipher?\n",
        "\n",
        "A Caesar Cipher works by shifting each letter in your message by a fixed number of places in the alphabet.\n",
        "\n",
        "Example:\n",
        "- Message: `HELLO`\n",
        "- Shift: 3\n",
        "- Result: `KHOOR`\n",
        "\n",
        "Spaces and punctuation stay the same. Decryption just shifts letters back.\n",
        "\n",
        "Let’s try it!\n"
      ],
      "metadata": {
        "id": "4Px4QbR71roq"
      }
    },
    {
      "cell_type": "markdown",
      "source": [
        "## ================================================================="
      ],
      "metadata": {
        "id": "w4Dt0ktZ2DQg"
      }
    },
    {
      "cell_type": "code",
      "execution_count": null,
      "metadata": {
        "colab": {
          "base_uri": "https://localhost:8080/"
        },
        "id": "2TXSlIo9zw8j",
        "outputId": "d0e53c03-e15c-4428-d5eb-2c8197d58e5e"
      },
      "outputs": [
        {
          "output_type": "stream",
          "name": "stdout",
          "text": [
            "Enter your message to encrypt: Testing\n",
            "Enter the shift number (e.g., 3): 6\n",
            "Alphabet:   ABCDEFGHIJKLMNOPQRSTUVWXYZ\n",
            "Shifted by: 6\n",
            "🔐 Encrypted Message: Zkyzotm\n"
          ]
        }
      ],
      "source": [
        "# Run this cell to encrypt a message\n",
        "message = input(\"Enter your message to encrypt: \")\n",
        "shift = int(input(\"Enter the shift number (e.g., 3): \"))\n",
        "\n",
        "def caesar_encrypt(text, shift):\n",
        "    alphabet = \"ABCDEFGHIJKLMNOPQRSTUVWXYZ\"\n",
        "    result = \"\"\n",
        "\n",
        "    print(\"Alphabet:   \" + alphabet)\n",
        "    print(\"Shifted by:\", shift)\n",
        "\n",
        "    for char in text:\n",
        "        if char.upper() in alphabet:\n",
        "            is_upper = char.isupper()\n",
        "            index = alphabet.find(char.upper())\n",
        "            shifted_index = (index + shift) % 26\n",
        "            shifted_char = alphabet[shifted_index]\n",
        "            result += shifted_char if is_upper else shifted_char.lower()\n",
        "        else:\n",
        "            result += char  # Keep punctuation, numbers, spaces the same\n",
        "\n",
        "    return result\n",
        "\n",
        "encrypted = caesar_encrypt(message, shift)\n",
        "print(\"🔐 Encrypted Message:\", encrypted)"
      ]
    },
    {
      "cell_type": "markdown",
      "source": [
        "## ================================================================="
      ],
      "metadata": {
        "id": "Y7Z9UZTQ4i2W"
      }
    },
    {
      "cell_type": "code",
      "source": [
        "# Run this cell to decrypt a message\n",
        "ciphertext = input(\"Enter the message to decrypt: \")\n",
        "shift = int(input(\"Enter the shift number (e.g., 3): \"))\n",
        "\n",
        "def caesar_decrypt(ciphertext, shift):\n",
        "    return caesar_encrypt(ciphertext, -shift)\n",
        "\n",
        "decrypted = caesar_decrypt(ciphertext, shift)\n",
        "print(\"🔓 Decrypted Message:\", decrypted)\n"
      ],
      "metadata": {
        "colab": {
          "base_uri": "https://localhost:8080/"
        },
        "id": "DrS_JyPv4cxX",
        "outputId": "caadbd76-4939-4eb4-dde7-2bcac1232541"
      },
      "execution_count": null,
      "outputs": [
        {
          "output_type": "stream",
          "name": "stdout",
          "text": [
            "Enter the message to decrypt: kadgn\n",
            "Enter the shift number (e.g., 3): 3\n",
            "Alphabet:   ABCDEFGHIJKLMNOPQRSTUVWXYZ\n",
            "Shifted by: -3\n",
            "🔓 Decrypted Message: hxadk\n"
          ]
        }
      ]
    },
    {
      "cell_type": "markdown",
      "source": [
        "## 🧠 What if You Don’t Know the Key?\n",
        "\n",
        "Imagine you received a message from space… but you don’t know the shift. What do you do?\n",
        "\n",
        "One way is to try **every possible shift** (there are only 25!) and see which result makes sense.\n",
        "\n",
        "Let’s give it a shot:\n"
      ],
      "metadata": {
        "id": "n-AX3EGn5wCw"
      }
    },
    {
      "cell_type": "code",
      "source": [
        "ciphertext = input(\"Enter the encrypted message to analyze: \")\n",
        "\n",
        "print(\"\\n🔎 Brute-force Decryption Attempts:\\n\")\n",
        "for shift in range(1, 26):\n",
        "    print(f\"Shift {shift}: {caesar_decrypt(ciphertext, shift)}\")\n"
      ],
      "metadata": {
        "id": "5uYnNvvW56mQ",
        "colab": {
          "base_uri": "https://localhost:8080/"
        },
        "outputId": "f95a902c-c043-4c7e-deb0-f9731e07e163"
      },
      "execution_count": null,
      "outputs": [
        {
          "output_type": "stream",
          "name": "stdout",
          "text": [
            "Enter the encrypted message to analyze: qaprzrpi\n",
            "\n",
            "🔎 Brute-force Decryption Attempts:\n",
            "\n",
            "Alphabet:   ABCDEFGHIJKLMNOPQRSTUVWXYZ\n",
            "Shifted by: -1\n",
            "Shift 1: pzoqyqoh\n",
            "Alphabet:   ABCDEFGHIJKLMNOPQRSTUVWXYZ\n",
            "Shifted by: -2\n",
            "Shift 2: oynpxpng\n",
            "Alphabet:   ABCDEFGHIJKLMNOPQRSTUVWXYZ\n",
            "Shifted by: -3\n",
            "Shift 3: nxmowomf\n",
            "Alphabet:   ABCDEFGHIJKLMNOPQRSTUVWXYZ\n",
            "Shifted by: -4\n",
            "Shift 4: mwlnvnle\n",
            "Alphabet:   ABCDEFGHIJKLMNOPQRSTUVWXYZ\n",
            "Shifted by: -5\n",
            "Shift 5: lvkmumkd\n",
            "Alphabet:   ABCDEFGHIJKLMNOPQRSTUVWXYZ\n",
            "Shifted by: -6\n",
            "Shift 6: kujltljc\n",
            "Alphabet:   ABCDEFGHIJKLMNOPQRSTUVWXYZ\n",
            "Shifted by: -7\n",
            "Shift 7: jtikskib\n",
            "Alphabet:   ABCDEFGHIJKLMNOPQRSTUVWXYZ\n",
            "Shifted by: -8\n",
            "Shift 8: ishjrjha\n",
            "Alphabet:   ABCDEFGHIJKLMNOPQRSTUVWXYZ\n",
            "Shifted by: -9\n",
            "Shift 9: hrgiqigz\n",
            "Alphabet:   ABCDEFGHIJKLMNOPQRSTUVWXYZ\n",
            "Shifted by: -10\n",
            "Shift 10: gqfhphfy\n",
            "Alphabet:   ABCDEFGHIJKLMNOPQRSTUVWXYZ\n",
            "Shifted by: -11\n",
            "Shift 11: fpegogex\n",
            "Alphabet:   ABCDEFGHIJKLMNOPQRSTUVWXYZ\n",
            "Shifted by: -12\n",
            "Shift 12: eodfnfdw\n",
            "Alphabet:   ABCDEFGHIJKLMNOPQRSTUVWXYZ\n",
            "Shifted by: -13\n",
            "Shift 13: dncemecv\n",
            "Alphabet:   ABCDEFGHIJKLMNOPQRSTUVWXYZ\n",
            "Shifted by: -14\n",
            "Shift 14: cmbdldbu\n",
            "Alphabet:   ABCDEFGHIJKLMNOPQRSTUVWXYZ\n",
            "Shifted by: -15\n",
            "Shift 15: blackcat\n",
            "Alphabet:   ABCDEFGHIJKLMNOPQRSTUVWXYZ\n",
            "Shifted by: -16\n",
            "Shift 16: akzbjbzs\n",
            "Alphabet:   ABCDEFGHIJKLMNOPQRSTUVWXYZ\n",
            "Shifted by: -17\n",
            "Shift 17: zjyaiayr\n",
            "Alphabet:   ABCDEFGHIJKLMNOPQRSTUVWXYZ\n",
            "Shifted by: -18\n",
            "Shift 18: yixzhzxq\n",
            "Alphabet:   ABCDEFGHIJKLMNOPQRSTUVWXYZ\n",
            "Shifted by: -19\n",
            "Shift 19: xhwygywp\n",
            "Alphabet:   ABCDEFGHIJKLMNOPQRSTUVWXYZ\n",
            "Shifted by: -20\n",
            "Shift 20: wgvxfxvo\n",
            "Alphabet:   ABCDEFGHIJKLMNOPQRSTUVWXYZ\n",
            "Shifted by: -21\n",
            "Shift 21: vfuwewun\n",
            "Alphabet:   ABCDEFGHIJKLMNOPQRSTUVWXYZ\n",
            "Shifted by: -22\n",
            "Shift 22: uetvdvtm\n",
            "Alphabet:   ABCDEFGHIJKLMNOPQRSTUVWXYZ\n",
            "Shifted by: -23\n",
            "Shift 23: tdsucusl\n",
            "Alphabet:   ABCDEFGHIJKLMNOPQRSTUVWXYZ\n",
            "Shifted by: -24\n",
            "Shift 24: scrtbtrk\n",
            "Alphabet:   ABCDEFGHIJKLMNOPQRSTUVWXYZ\n",
            "Shifted by: -25\n",
            "Shift 25: rbqsasqj\n"
          ]
        }
      ]
    },
    {
      "cell_type": "markdown",
      "source": [
        "## ================================================================="
      ],
      "metadata": {
        "id": "BY6mfMhr4uwB"
      }
    },
    {
      "cell_type": "markdown",
      "source": [
        "## 🔐 Practice Cosmic Ciphers: Can You Decode the Scottie Secrets?\n",
        "\n",
        "Below are encrypted messages using the Caesar Cipher. Each has a **different shift** — your job is to **crack the code**!\n",
        "\n",
        "Try using the brute-force decryption tool and see if you can recognize the words, traditions, and places from Agnes Scott College.\n",
        "\n",
        "### ✨ Encrypted Messages\n",
        "\n",
        "1. `Nby Jlymcxyhn cm ch Guch`\n",
        "2. `Fpbggvrf va gur Oenqyrl Bofreingbel`\n",
        "3. `Lchuz ohz aol ilza mvvk`\n",
        "\n",
        "\n",
        "🎯 Use the brute-force tool or your own code to decrypt them.  \n",
        "🧠 Bonus: Try guessing the **shift** and the **meaning** before revealing the key!\n"
      ],
      "metadata": {
        "id": "3bU-w5P474EV"
      }
    },
    {
      "cell_type": "code",
      "source": [],
      "metadata": {
        "id": "ixlyWA1N8Sc1"
      },
      "execution_count": null,
      "outputs": []
    },
    {
      "cell_type": "code",
      "source": [],
      "metadata": {
        "id": "SXQ3Cfn48So_"
      },
      "execution_count": null,
      "outputs": []
    },
    {
      "cell_type": "code",
      "source": [],
      "metadata": {
        "id": "heeA8N068S1E"
      },
      "execution_count": null,
      "outputs": []
    }
  ]
}