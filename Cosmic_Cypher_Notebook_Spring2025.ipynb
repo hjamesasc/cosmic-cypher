{
  "nbformat": 4,
  "nbformat_minor": 0,
  "metadata": {
    "colab": {
      "provenance": [],
      "collapsed_sections": [
        "GlqydHpdp8eq"
      ],
      "authorship_tag": "ABX9TyNORMoFxUVFaoBDlT1P+H4z",
      "include_colab_link": true
    },
    "kernelspec": {
      "name": "python3",
      "display_name": "Python 3"
    },
    "language_info": {
      "name": "python"
    }
  },
  "cells": [
    {
      "cell_type": "markdown",
      "metadata": {
        "id": "view-in-github",
        "colab_type": "text"
      },
      "source": [
        "<a href=\"https://colab.research.google.com/github/hjamesasc/cosmic-cypher/blob/main/Cosmic_Cypher_Notebook_Spring2025.ipynb\" target=\"_parent\"><img src=\"https://colab.research.google.com/assets/colab-badge.svg\" alt=\"Open In Colab\"/></a>"
      ]
    },
    {
      "cell_type": "markdown",
      "source": [
        "# The Cosmic Cipher: Cryptography and the Search for Extraterrestrial Intelligence"
      ],
      "metadata": {
        "id": "GlqydHpdp8eq"
      }
    },
    {
      "cell_type": "markdown",
      "source": [
        "\n",
        "\n",
        "Imagine you're trying to send a secret message to a friend, except this time, your friend is light-years away. To keep your message safe from interception, you scramble it just enough that only someone with the key can make sense of it. This is the basic idea behind cryptography.\n",
        "\n",
        "In this notebook, we’ll explore one of the oldest and simplest methods of encryption: the **Caesar Cipher**, named after Julius Caesar, who used it to protect his military communications.\n",
        "\n",
        "By the end of this activity, you will be able to:\n",
        "- Encrypt a message using a Caesar cipher\n",
        "- Decrypt a message using a known key\n",
        "- Experiment with decoding a message *without* knowing the key, just like scientists might do if we received a signal from an unknown source in space\n",
        "\n",
        "Let’s explore how math and pattern recognition help us uncover hidden meaning in signals, whether here on Earth or around other stars.\n"
      ],
      "metadata": {
        "id": "gr5T0ItliM7U"
      }
    },
    {
      "cell_type": "markdown",
      "source": [
        "## What is a Caesar Cipher?\n",
        "\n",
        "A Caesar Cipher is a simple method of encryption that shifts each letter in your message by a fixed number of positions in the alphabet.\n",
        "\n",
        "For example:\n",
        "- Original message: `HELLO`\n",
        "- Shift: 3\n",
        "- Encrypted message: `KHOOR`\n",
        "\n",
        "Only the letters are shifted—punctuation, spaces, and numbers remain unchanged.\n",
        "\n",
        "To decrypt a message, you simply shift the letters back by the same amount.\n",
        "\n",
        "Let’s walk through how this works.\n"
      ],
      "metadata": {
        "id": "RU5fk76MiKrs"
      }
    },
    {
      "cell_type": "markdown",
      "source": [
        "# Encryption Code:"
      ],
      "metadata": {
        "id": "wPaBRFf6noaE"
      }
    },
    {
      "cell_type": "code",
      "execution_count": null,
      "metadata": {
        "id": "BYv2qqe_iJ9v"
      },
      "outputs": [],
      "source": [
        "# PLEASE PRESS PLAY\n",
        "\n",
        "\n",
        "from IPython.display import display, HTML\n",
        "\n",
        "# Function to print bold, purple, large text\n",
        "def print_large(text):\n",
        "    display(HTML(f\"<p style='font-size:30px; font-family:monospace; color:purple; font-weight:bold;'>{text}</p>\"))\n",
        "\n",
        "\n",
        "# Get user input\n",
        "plaintext = input(\"Enter your message to encrypt: \")\n",
        "shift = int(input(\"Enter the shift number (e.g., 3): \"))\n",
        "\n",
        "# Define the alphabet\n",
        "alphabet = \"ABCDEFGHIJKLMNOPQRSTUVWXYZ\"\n",
        "ciphertext = \"\"\n",
        "\n",
        "# Print reference alphabet\n",
        "print_large(\"Alphabet:   \" + alphabet)\n",
        "print_large(f\"Shifted by: {shift}\")\n",
        "\n",
        "# Encrypt each character\n",
        "for char in plaintext:\n",
        "    if char.upper() in alphabet:\n",
        "        is_upper = char.isupper()\n",
        "        index = alphabet.index(char.upper())\n",
        "        encrypted_index = (index + shift) % 26\n",
        "        encrypted_char = alphabet[encrypted_index]\n",
        "        ciphertext += encrypted_char if is_upper else encrypted_char.lower()\n",
        "    else:\n",
        "        ciphertext += char  # Keep spaces, punctuation, etc.\n",
        "\n",
        "# Print result in large font\n",
        "print_large(\"Encrypted message: \" + ciphertext)\n"
      ]
    },
    {
      "cell_type": "markdown",
      "source": [
        "# Decryption Code:"
      ],
      "metadata": {
        "id": "WEFVcLnjn2AR"
      }
    },
    {
      "cell_type": "code",
      "source": [
        "# PLEASE PRESS PLAY\n",
        "\n",
        "\n",
        "from IPython.display import display, HTML\n",
        "\n",
        "# Function to print bold, purple, large text\n",
        "def print_large(text):\n",
        "    display(HTML(f\"<p style='font-size:30px; font-family:monospace; color:purple; font-weight:bold;'>{text}</p>\"))\n",
        "\n",
        "# Caesar encryption logic (used for decryption too)\n",
        "def caesar_encrypt(text, shift):\n",
        "    alphabet = \"ABCDEFGHIJKLMNOPQRSTUVWXYZ\"\n",
        "    result = \"\"\n",
        "    for char in text:\n",
        "        if char.upper() in alphabet:\n",
        "            is_upper = char.isupper()\n",
        "            index = alphabet.index(char.upper())\n",
        "            shifted_index = (index + shift) % 26\n",
        "            shifted_char = alphabet[shifted_index]\n",
        "            result += shifted_char if is_upper else shifted_char.lower()\n",
        "        else:\n",
        "            result += char\n",
        "    return result\n",
        "\n",
        "# Decryption function\n",
        "def caesar_decrypt(ciphertext, shift):\n",
        "    return caesar_encrypt(ciphertext, -shift)\n",
        "\n",
        "# Get input from user\n",
        "ciphertext = input(\"Enter the message to decrypt: \")\n",
        "shift = int(input(\"Enter the shift number (e.g., 3): \"))\n",
        "\n",
        "# Decrypt and print result\n",
        "decrypted = caesar_decrypt(ciphertext, shift)\n",
        "print_large(\"Decrypted message: \" + decrypted)\n"
      ],
      "metadata": {
        "id": "QDpYOeO8mFjf"
      },
      "execution_count": null,
      "outputs": []
    },
    {
      "cell_type": "markdown",
      "source": [
        "## What if You Don’t Know the Key?\n",
        "\n",
        "Imagine you receive a mysterious message from space — but you don’t know how it was encoded.\n",
        "\n",
        "How would you make sense of it?\n",
        "\n",
        "One approach is to try **every possible shift** in the Caesar Cipher (there are only 25 possibilities) and examine the results to see if any of them reveal a meaningful message.\n",
        "\n",
        "Let’s try it and see what patterns emerge.\n"
      ],
      "metadata": {
        "id": "hRdJLI7fnFmb"
      }
    },
    {
      "cell_type": "markdown",
      "source": [
        "# Brute Force Code:"
      ],
      "metadata": {
        "id": "iJDTkcrfoCtp"
      }
    },
    {
      "cell_type": "code",
      "source": [
        "from IPython.display import display, HTML\n",
        "\n",
        "# Function for styled output\n",
        "def print_large(text):\n",
        "    display(HTML(f\"<p style='font-size:30px; font-family:monospace; color:purple; font-weight:bold;'>{text}</p>\"))\n",
        "\n",
        "# Caesar encryption logic (used for decryption)\n",
        "def caesar_encrypt(text, shift):\n",
        "    alphabet = \"ABCDEFGHIJKLMNOPQRSTUVWXYZ\"\n",
        "    result = \"\"\n",
        "    for char in text:\n",
        "        if char.upper() in alphabet:\n",
        "            is_upper = char.isupper()\n",
        "            index = alphabet.index(char.upper())\n",
        "            shifted_index = (index + shift) % 26\n",
        "            shifted_char = alphabet[shifted_index]\n",
        "            result += shifted_char if is_upper else shifted_char.lower()\n",
        "        else:\n",
        "            result += char\n",
        "    return result\n",
        "\n",
        "# Decryption wrapper\n",
        "def caesar_decrypt(ciphertext, shift):\n",
        "    return caesar_encrypt(ciphertext, -shift)\n",
        "\n",
        "# Get encrypted input\n",
        "ciphertext = input(\"Enter the encrypted message to analyze: \")\n",
        "\n",
        "# Brute-force all 25 possible shifts\n",
        "print_large(\"Brute-force Decryption Attempts:\\n\")\n",
        "for shift in range(1, 26):\n",
        "    print_large(f\"Shift {shift}: {caesar_decrypt(ciphertext, shift)}\")\n"
      ],
      "metadata": {
        "id": "FbaG0ZbanR8G"
      },
      "execution_count": null,
      "outputs": []
    },
    {
      "cell_type": "markdown",
      "source": [
        "## Practice Cosmic Ciphers: Can You Decode the Scottie Secrets?\n",
        "\n",
        "Below are encrypted messages created with the Caesar Cipher. Each one uses a **different shift** — your task is to **crack the code**!\n",
        "\n",
        "Use the brute-force decryption tool above to analyze each message. As you decode, see if you can identify the references to places, traditions, and phrases from Agnes Scott College.\n",
        "\n",
        "### Encrypted Messages\n",
        "\n",
        "1. `Nby Jlymcxyhn cm ch Guch`\n",
        "2. `Fpbggvrf va gur Oenqyrl Bofreingbel`\n",
        "3. `Lchuz ohz aol ilza mvvk`\n",
        "\n",
        "**Tip:** Try all 25 shifts and look for familiar words.  \n",
        "**Challenge:** Can you guess both the original message and the shift used?\n"
      ],
      "metadata": {
        "id": "d8ukegFfoT0D"
      }
    },
    {
      "cell_type": "code",
      "source": [
        "from IPython.display import display, HTML\n",
        "\n",
        "# Function for styled output\n",
        "def print_large(text):\n",
        "    display(HTML(f\"<p style='font-size:50px; font-family:monospace; color:purple; font-weight:bold;'>{text}</p>\"))\n",
        "\n",
        "print_large(\"Fin.\")"
      ],
      "metadata": {
        "id": "8Z4_AooGo68p"
      },
      "execution_count": null,
      "outputs": []
    }
  ]
}